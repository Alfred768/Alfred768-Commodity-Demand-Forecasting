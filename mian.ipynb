{
 "cells": [
  {
   "cell_type": "code",
   "execution_count": 35,
   "metadata": {
    "collapsed": true
   },
   "outputs": [],
   "source": [
    "import numpy as np\n",
    "import pandas as pd\n",
    "import lightgbm as lgb\n",
    "import statsmodels.api as sm\n",
    "import matplotlib.pyplot as plt\n",
    "import seaborn as sns\n",
    "from prophet import Prophet\n",
    "import warnings\n",
    "\n",
    "sns.set_style('darkgrid')\n",
    "warnings.filterwarnings('ignore')"
   ]
  },
  {
   "cell_type": "code",
   "execution_count": 36,
   "outputs": [],
   "source": [
    "def prophet_features(df):\n",
    "    temp_df = df.reset_index()\n",
    "    temp_df = temp_df[['date', 'sales']]\n",
    "    temp_df.rename(columns={'date': 'ds', 'sales': 'y'}, inplace=True)\n",
    "\n",
    "    # define prophet model\n",
    "    m = Prophet(\n",
    "        growth='linear',\n",
    "        seasonality_mode='additive',\n",
    "        interval_width=0.95,\n",
    "        daily_seasonality=True,\n",
    "        weekly_seasonality=True,\n",
    "        yearly_seasonality=False\n",
    "    )\n",
    "    # train prophet model\n",
    "    m.fit(temp_df)\n",
    "\n",
    "    future = m.make_future_dataframe(periods=92)\n",
    "    forecast = m.predict(future)\n",
    "\n",
    "    return forecast"
   ],
   "metadata": {
    "collapsed": false,
    "pycharm": {
     "name": "#%%\n"
    }
   }
  },
  {
   "cell_type": "code",
   "execution_count": 37,
   "outputs": [
    {
     "name": "stderr",
     "output_type": "stream",
     "text": [
      "11:45:06 - cmdstanpy - INFO - Chain [1] start processing\n",
      "11:45:06 - cmdstanpy - INFO - Chain [1] done processing\n"
     ]
    },
    {
     "data": {
      "text/plain": "             ds      trend  yhat_lower  yhat_upper  trend_lower  trend_upper  \\\n0    2013-01-01  13.368550    1.921355   25.115606    13.368550    13.368550   \n1    2013-01-02  13.377836    2.823782   24.263662    13.377836    13.377836   \n2    2013-01-03  13.387122    2.777532   25.310127    13.387122    13.387122   \n3    2013-01-04  13.396408    5.579483   27.286662    13.396408    13.396408   \n4    2013-01-05  13.405694    6.736638   28.654151    13.405694    13.405694   \n...         ...        ...         ...         ...          ...          ...   \n1821 2017-12-27  23.036124   12.349524   35.353730    22.989805    23.087121   \n1822 2017-12-28  23.041361   12.108617   35.894902    22.994176    23.093143   \n1823 2017-12-29  23.046599   15.169711   37.287123    22.998516    23.099148   \n1824 2017-12-30  23.051837   16.385046   38.847565    23.002889    23.105153   \n1825 2017-12-31  23.057074   17.676758   39.308676    23.007566    23.111157   \n\n      additive_terms  additive_terms_lower  additive_terms_upper    daily  \\\n0          -0.316725             -0.316725             -0.316725  1.48895   \n1           0.371677              0.371677              0.371677  1.48895   \n2           0.935054              0.935054              0.935054  1.48895   \n3           2.672100              2.672100              2.672100  1.48895   \n4           4.421248              4.421248              4.421248  1.48895   \n...              ...                   ...                   ...      ...   \n1821        0.371677              0.371677              0.371677  1.48895   \n1822        0.935053              0.935053              0.935053  1.48895   \n1823        2.672100              2.672100              2.672100  1.48895   \n1824        4.421248              4.421248              4.421248  1.48895   \n1825        5.261387              5.261387              5.261387  1.48895   \n\n      daily_lower  daily_upper    weekly  weekly_lower  weekly_upper  \\\n0         1.48895      1.48895 -1.805675     -1.805675     -1.805675   \n1         1.48895      1.48895 -1.117273     -1.117273     -1.117273   \n2         1.48895      1.48895 -0.553896     -0.553896     -0.553896   \n3         1.48895      1.48895  1.183150      1.183150      1.183150   \n4         1.48895      1.48895  2.932298      2.932298      2.932298   \n...           ...          ...       ...           ...           ...   \n1821      1.48895      1.48895 -1.117273     -1.117273     -1.117273   \n1822      1.48895      1.48895 -0.553897     -0.553897     -0.553897   \n1823      1.48895      1.48895  1.183150      1.183150      1.183150   \n1824      1.48895      1.48895  2.932298      2.932298      2.932298   \n1825      1.48895      1.48895  3.772437      3.772437      3.772437   \n\n      multiplicative_terms  multiplicative_terms_lower  \\\n0                      0.0                         0.0   \n1                      0.0                         0.0   \n2                      0.0                         0.0   \n3                      0.0                         0.0   \n4                      0.0                         0.0   \n...                    ...                         ...   \n1821                   0.0                         0.0   \n1822                   0.0                         0.0   \n1823                   0.0                         0.0   \n1824                   0.0                         0.0   \n1825                   0.0                         0.0   \n\n      multiplicative_terms_upper       yhat  \n0                            0.0  13.051825  \n1                            0.0  13.749513  \n2                            0.0  14.322176  \n3                            0.0  16.068508  \n4                            0.0  17.826942  \n...                          ...        ...  \n1821                         0.0  23.407801  \n1822                         0.0  23.976415  \n1823                         0.0  25.718699  \n1824                         0.0  27.473084  \n1825                         0.0  28.318461  \n\n[1826 rows x 19 columns]",
      "text/html": "<div>\n<style scoped>\n    .dataframe tbody tr th:only-of-type {\n        vertical-align: middle;\n    }\n\n    .dataframe tbody tr th {\n        vertical-align: top;\n    }\n\n    .dataframe thead th {\n        text-align: right;\n    }\n</style>\n<table border=\"1\" class=\"dataframe\">\n  <thead>\n    <tr style=\"text-align: right;\">\n      <th></th>\n      <th>ds</th>\n      <th>trend</th>\n      <th>yhat_lower</th>\n      <th>yhat_upper</th>\n      <th>trend_lower</th>\n      <th>trend_upper</th>\n      <th>additive_terms</th>\n      <th>additive_terms_lower</th>\n      <th>additive_terms_upper</th>\n      <th>daily</th>\n      <th>daily_lower</th>\n      <th>daily_upper</th>\n      <th>weekly</th>\n      <th>weekly_lower</th>\n      <th>weekly_upper</th>\n      <th>multiplicative_terms</th>\n      <th>multiplicative_terms_lower</th>\n      <th>multiplicative_terms_upper</th>\n      <th>yhat</th>\n    </tr>\n  </thead>\n  <tbody>\n    <tr>\n      <th>0</th>\n      <td>2013-01-01</td>\n      <td>13.368550</td>\n      <td>1.921355</td>\n      <td>25.115606</td>\n      <td>13.368550</td>\n      <td>13.368550</td>\n      <td>-0.316725</td>\n      <td>-0.316725</td>\n      <td>-0.316725</td>\n      <td>1.48895</td>\n      <td>1.48895</td>\n      <td>1.48895</td>\n      <td>-1.805675</td>\n      <td>-1.805675</td>\n      <td>-1.805675</td>\n      <td>0.0</td>\n      <td>0.0</td>\n      <td>0.0</td>\n      <td>13.051825</td>\n    </tr>\n    <tr>\n      <th>1</th>\n      <td>2013-01-02</td>\n      <td>13.377836</td>\n      <td>2.823782</td>\n      <td>24.263662</td>\n      <td>13.377836</td>\n      <td>13.377836</td>\n      <td>0.371677</td>\n      <td>0.371677</td>\n      <td>0.371677</td>\n      <td>1.48895</td>\n      <td>1.48895</td>\n      <td>1.48895</td>\n      <td>-1.117273</td>\n      <td>-1.117273</td>\n      <td>-1.117273</td>\n      <td>0.0</td>\n      <td>0.0</td>\n      <td>0.0</td>\n      <td>13.749513</td>\n    </tr>\n    <tr>\n      <th>2</th>\n      <td>2013-01-03</td>\n      <td>13.387122</td>\n      <td>2.777532</td>\n      <td>25.310127</td>\n      <td>13.387122</td>\n      <td>13.387122</td>\n      <td>0.935054</td>\n      <td>0.935054</td>\n      <td>0.935054</td>\n      <td>1.48895</td>\n      <td>1.48895</td>\n      <td>1.48895</td>\n      <td>-0.553896</td>\n      <td>-0.553896</td>\n      <td>-0.553896</td>\n      <td>0.0</td>\n      <td>0.0</td>\n      <td>0.0</td>\n      <td>14.322176</td>\n    </tr>\n    <tr>\n      <th>3</th>\n      <td>2013-01-04</td>\n      <td>13.396408</td>\n      <td>5.579483</td>\n      <td>27.286662</td>\n      <td>13.396408</td>\n      <td>13.396408</td>\n      <td>2.672100</td>\n      <td>2.672100</td>\n      <td>2.672100</td>\n      <td>1.48895</td>\n      <td>1.48895</td>\n      <td>1.48895</td>\n      <td>1.183150</td>\n      <td>1.183150</td>\n      <td>1.183150</td>\n      <td>0.0</td>\n      <td>0.0</td>\n      <td>0.0</td>\n      <td>16.068508</td>\n    </tr>\n    <tr>\n      <th>4</th>\n      <td>2013-01-05</td>\n      <td>13.405694</td>\n      <td>6.736638</td>\n      <td>28.654151</td>\n      <td>13.405694</td>\n      <td>13.405694</td>\n      <td>4.421248</td>\n      <td>4.421248</td>\n      <td>4.421248</td>\n      <td>1.48895</td>\n      <td>1.48895</td>\n      <td>1.48895</td>\n      <td>2.932298</td>\n      <td>2.932298</td>\n      <td>2.932298</td>\n      <td>0.0</td>\n      <td>0.0</td>\n      <td>0.0</td>\n      <td>17.826942</td>\n    </tr>\n    <tr>\n      <th>...</th>\n      <td>...</td>\n      <td>...</td>\n      <td>...</td>\n      <td>...</td>\n      <td>...</td>\n      <td>...</td>\n      <td>...</td>\n      <td>...</td>\n      <td>...</td>\n      <td>...</td>\n      <td>...</td>\n      <td>...</td>\n      <td>...</td>\n      <td>...</td>\n      <td>...</td>\n      <td>...</td>\n      <td>...</td>\n      <td>...</td>\n      <td>...</td>\n    </tr>\n    <tr>\n      <th>1821</th>\n      <td>2017-12-27</td>\n      <td>23.036124</td>\n      <td>12.349524</td>\n      <td>35.353730</td>\n      <td>22.989805</td>\n      <td>23.087121</td>\n      <td>0.371677</td>\n      <td>0.371677</td>\n      <td>0.371677</td>\n      <td>1.48895</td>\n      <td>1.48895</td>\n      <td>1.48895</td>\n      <td>-1.117273</td>\n      <td>-1.117273</td>\n      <td>-1.117273</td>\n      <td>0.0</td>\n      <td>0.0</td>\n      <td>0.0</td>\n      <td>23.407801</td>\n    </tr>\n    <tr>\n      <th>1822</th>\n      <td>2017-12-28</td>\n      <td>23.041361</td>\n      <td>12.108617</td>\n      <td>35.894902</td>\n      <td>22.994176</td>\n      <td>23.093143</td>\n      <td>0.935053</td>\n      <td>0.935053</td>\n      <td>0.935053</td>\n      <td>1.48895</td>\n      <td>1.48895</td>\n      <td>1.48895</td>\n      <td>-0.553897</td>\n      <td>-0.553897</td>\n      <td>-0.553897</td>\n      <td>0.0</td>\n      <td>0.0</td>\n      <td>0.0</td>\n      <td>23.976415</td>\n    </tr>\n    <tr>\n      <th>1823</th>\n      <td>2017-12-29</td>\n      <td>23.046599</td>\n      <td>15.169711</td>\n      <td>37.287123</td>\n      <td>22.998516</td>\n      <td>23.099148</td>\n      <td>2.672100</td>\n      <td>2.672100</td>\n      <td>2.672100</td>\n      <td>1.48895</td>\n      <td>1.48895</td>\n      <td>1.48895</td>\n      <td>1.183150</td>\n      <td>1.183150</td>\n      <td>1.183150</td>\n      <td>0.0</td>\n      <td>0.0</td>\n      <td>0.0</td>\n      <td>25.718699</td>\n    </tr>\n    <tr>\n      <th>1824</th>\n      <td>2017-12-30</td>\n      <td>23.051837</td>\n      <td>16.385046</td>\n      <td>38.847565</td>\n      <td>23.002889</td>\n      <td>23.105153</td>\n      <td>4.421248</td>\n      <td>4.421248</td>\n      <td>4.421248</td>\n      <td>1.48895</td>\n      <td>1.48895</td>\n      <td>1.48895</td>\n      <td>2.932298</td>\n      <td>2.932298</td>\n      <td>2.932298</td>\n      <td>0.0</td>\n      <td>0.0</td>\n      <td>0.0</td>\n      <td>27.473084</td>\n    </tr>\n    <tr>\n      <th>1825</th>\n      <td>2017-12-31</td>\n      <td>23.057074</td>\n      <td>17.676758</td>\n      <td>39.308676</td>\n      <td>23.007566</td>\n      <td>23.111157</td>\n      <td>5.261387</td>\n      <td>5.261387</td>\n      <td>5.261387</td>\n      <td>1.48895</td>\n      <td>1.48895</td>\n      <td>1.48895</td>\n      <td>3.772437</td>\n      <td>3.772437</td>\n      <td>3.772437</td>\n      <td>0.0</td>\n      <td>0.0</td>\n      <td>0.0</td>\n      <td>28.318461</td>\n    </tr>\n  </tbody>\n</table>\n<p>1826 rows × 19 columns</p>\n</div>"
     },
     "execution_count": 37,
     "metadata": {},
     "output_type": "execute_result"
    }
   ],
   "source": [
    "df = pd.read_csv('train.csv')\n",
    "data = prophet_features(df)\n",
    "df['date'] = pd.to_datetime(df['date'])\n",
    "data"
   ],
   "metadata": {
    "collapsed": false,
    "pycharm": {
     "name": "#%%\n"
    }
   }
  },
  {
   "cell_type": "code",
   "execution_count": 51,
   "outputs": [],
   "source": [
    "from lightgbm import LGBMRegressor\n",
    "from sklearn.metrics import mean_absolute_error"
   ],
   "metadata": {
    "collapsed": false,
    "pycharm": {
     "name": "#%%\n"
    }
   }
  },
  {
   "cell_type": "code",
   "execution_count": 52,
   "outputs": [
    {
     "data": {
      "text/plain": "             ds      trend  yhat_lower  yhat_upper  trend_lower  trend_upper  \\\n0    2013-01-01  13.368550    1.921355   25.115606    13.368550    13.368550   \n1    2013-01-02  13.377836    2.823782   24.263662    13.377836    13.377836   \n2    2013-01-03  13.387122    2.777532   25.310127    13.387122    13.387122   \n3    2013-01-04  13.396408    5.579483   27.286662    13.396408    13.396408   \n4    2013-01-05  13.405694    6.736638   28.654151    13.405694    13.405694   \n...         ...        ...         ...         ...          ...          ...   \n1821 2017-12-27  23.036124   12.349524   35.353730    22.989805    23.087121   \n1822 2017-12-28  23.041361   12.108617   35.894902    22.994176    23.093143   \n1823 2017-12-29  23.046599   15.169711   37.287123    22.998516    23.099148   \n1824 2017-12-30  23.051837   16.385046   38.847565    23.002889    23.105153   \n1825 2017-12-31  23.057074   17.676758   39.308676    23.007566    23.111157   \n\n      additive_terms  additive_terms_lower  additive_terms_upper    daily  \\\n0          -0.316725             -0.316725             -0.316725  1.48895   \n1           0.371677              0.371677              0.371677  1.48895   \n2           0.935054              0.935054              0.935054  1.48895   \n3           2.672100              2.672100              2.672100  1.48895   \n4           4.421248              4.421248              4.421248  1.48895   \n...              ...                   ...                   ...      ...   \n1821        0.371677              0.371677              0.371677  1.48895   \n1822        0.935053              0.935053              0.935053  1.48895   \n1823        2.672100              2.672100              2.672100  1.48895   \n1824        4.421248              4.421248              4.421248  1.48895   \n1825        5.261387              5.261387              5.261387  1.48895   \n\n      ...  multiplicative_terms  multiplicative_terms_lower  \\\n0     ...                   0.0                         0.0   \n1     ...                   0.0                         0.0   \n2     ...                   0.0                         0.0   \n3     ...                   0.0                         0.0   \n4     ...                   0.0                         0.0   \n...   ...                   ...                         ...   \n1821  ...                   0.0                         0.0   \n1822  ...                   0.0                         0.0   \n1823  ...                   0.0                         0.0   \n1824  ...                   0.0                         0.0   \n1825  ...                   0.0                         0.0   \n\n      multiplicative_terms_upper       yhat  yhat_lag_7  yhat_lag_14  \\\n0                            0.0  13.051825         NaN          NaN   \n1                            0.0  13.749513         NaN          NaN   \n2                            0.0  14.322176         NaN          NaN   \n3                            0.0  16.068508         NaN          NaN   \n4                            0.0  17.826942         NaN          NaN   \n...                          ...        ...         ...          ...   \n1821                         0.0  23.407801   23.371137    23.334474   \n1822                         0.0  23.976415   23.939751    23.903088   \n1823                         0.0  25.718699   25.682036    25.645372   \n1824                         0.0  27.473084   27.436421    27.399757   \n1825                         0.0  28.318461   28.281798    28.245134   \n\n      yhat_lag_15  yhat_lag_30  yhat_lag_60  yhat_lag_90  \n0             NaN          NaN          NaN          NaN  \n1             NaN          NaN          NaN          NaN  \n2             NaN          NaN          NaN          NaN  \n3             NaN          NaN          NaN          NaN  \n4             NaN          NaN          NaN          NaN  \n...           ...          ...          ...          ...  \n1821    22.640834    19.956905    27.143113    23.499790  \n1822    23.334474    22.567507    27.988490    25.242074  \n1823    23.903088    23.261147    19.810251    26.996459  \n1824    25.645372    23.829761    22.420853    27.841836  \n1825    27.399757    25.572045    23.114493    19.663597  \n\n[1826 rows x 25 columns]",
      "text/html": "<div>\n<style scoped>\n    .dataframe tbody tr th:only-of-type {\n        vertical-align: middle;\n    }\n\n    .dataframe tbody tr th {\n        vertical-align: top;\n    }\n\n    .dataframe thead th {\n        text-align: right;\n    }\n</style>\n<table border=\"1\" class=\"dataframe\">\n  <thead>\n    <tr style=\"text-align: right;\">\n      <th></th>\n      <th>ds</th>\n      <th>trend</th>\n      <th>yhat_lower</th>\n      <th>yhat_upper</th>\n      <th>trend_lower</th>\n      <th>trend_upper</th>\n      <th>additive_terms</th>\n      <th>additive_terms_lower</th>\n      <th>additive_terms_upper</th>\n      <th>daily</th>\n      <th>...</th>\n      <th>multiplicative_terms</th>\n      <th>multiplicative_terms_lower</th>\n      <th>multiplicative_terms_upper</th>\n      <th>yhat</th>\n      <th>yhat_lag_7</th>\n      <th>yhat_lag_14</th>\n      <th>yhat_lag_15</th>\n      <th>yhat_lag_30</th>\n      <th>yhat_lag_60</th>\n      <th>yhat_lag_90</th>\n    </tr>\n  </thead>\n  <tbody>\n    <tr>\n      <th>0</th>\n      <td>2013-01-01</td>\n      <td>13.368550</td>\n      <td>1.921355</td>\n      <td>25.115606</td>\n      <td>13.368550</td>\n      <td>13.368550</td>\n      <td>-0.316725</td>\n      <td>-0.316725</td>\n      <td>-0.316725</td>\n      <td>1.48895</td>\n      <td>...</td>\n      <td>0.0</td>\n      <td>0.0</td>\n      <td>0.0</td>\n      <td>13.051825</td>\n      <td>NaN</td>\n      <td>NaN</td>\n      <td>NaN</td>\n      <td>NaN</td>\n      <td>NaN</td>\n      <td>NaN</td>\n    </tr>\n    <tr>\n      <th>1</th>\n      <td>2013-01-02</td>\n      <td>13.377836</td>\n      <td>2.823782</td>\n      <td>24.263662</td>\n      <td>13.377836</td>\n      <td>13.377836</td>\n      <td>0.371677</td>\n      <td>0.371677</td>\n      <td>0.371677</td>\n      <td>1.48895</td>\n      <td>...</td>\n      <td>0.0</td>\n      <td>0.0</td>\n      <td>0.0</td>\n      <td>13.749513</td>\n      <td>NaN</td>\n      <td>NaN</td>\n      <td>NaN</td>\n      <td>NaN</td>\n      <td>NaN</td>\n      <td>NaN</td>\n    </tr>\n    <tr>\n      <th>2</th>\n      <td>2013-01-03</td>\n      <td>13.387122</td>\n      <td>2.777532</td>\n      <td>25.310127</td>\n      <td>13.387122</td>\n      <td>13.387122</td>\n      <td>0.935054</td>\n      <td>0.935054</td>\n      <td>0.935054</td>\n      <td>1.48895</td>\n      <td>...</td>\n      <td>0.0</td>\n      <td>0.0</td>\n      <td>0.0</td>\n      <td>14.322176</td>\n      <td>NaN</td>\n      <td>NaN</td>\n      <td>NaN</td>\n      <td>NaN</td>\n      <td>NaN</td>\n      <td>NaN</td>\n    </tr>\n    <tr>\n      <th>3</th>\n      <td>2013-01-04</td>\n      <td>13.396408</td>\n      <td>5.579483</td>\n      <td>27.286662</td>\n      <td>13.396408</td>\n      <td>13.396408</td>\n      <td>2.672100</td>\n      <td>2.672100</td>\n      <td>2.672100</td>\n      <td>1.48895</td>\n      <td>...</td>\n      <td>0.0</td>\n      <td>0.0</td>\n      <td>0.0</td>\n      <td>16.068508</td>\n      <td>NaN</td>\n      <td>NaN</td>\n      <td>NaN</td>\n      <td>NaN</td>\n      <td>NaN</td>\n      <td>NaN</td>\n    </tr>\n    <tr>\n      <th>4</th>\n      <td>2013-01-05</td>\n      <td>13.405694</td>\n      <td>6.736638</td>\n      <td>28.654151</td>\n      <td>13.405694</td>\n      <td>13.405694</td>\n      <td>4.421248</td>\n      <td>4.421248</td>\n      <td>4.421248</td>\n      <td>1.48895</td>\n      <td>...</td>\n      <td>0.0</td>\n      <td>0.0</td>\n      <td>0.0</td>\n      <td>17.826942</td>\n      <td>NaN</td>\n      <td>NaN</td>\n      <td>NaN</td>\n      <td>NaN</td>\n      <td>NaN</td>\n      <td>NaN</td>\n    </tr>\n    <tr>\n      <th>...</th>\n      <td>...</td>\n      <td>...</td>\n      <td>...</td>\n      <td>...</td>\n      <td>...</td>\n      <td>...</td>\n      <td>...</td>\n      <td>...</td>\n      <td>...</td>\n      <td>...</td>\n      <td>...</td>\n      <td>...</td>\n      <td>...</td>\n      <td>...</td>\n      <td>...</td>\n      <td>...</td>\n      <td>...</td>\n      <td>...</td>\n      <td>...</td>\n      <td>...</td>\n      <td>...</td>\n    </tr>\n    <tr>\n      <th>1821</th>\n      <td>2017-12-27</td>\n      <td>23.036124</td>\n      <td>12.349524</td>\n      <td>35.353730</td>\n      <td>22.989805</td>\n      <td>23.087121</td>\n      <td>0.371677</td>\n      <td>0.371677</td>\n      <td>0.371677</td>\n      <td>1.48895</td>\n      <td>...</td>\n      <td>0.0</td>\n      <td>0.0</td>\n      <td>0.0</td>\n      <td>23.407801</td>\n      <td>23.371137</td>\n      <td>23.334474</td>\n      <td>22.640834</td>\n      <td>19.956905</td>\n      <td>27.143113</td>\n      <td>23.499790</td>\n    </tr>\n    <tr>\n      <th>1822</th>\n      <td>2017-12-28</td>\n      <td>23.041361</td>\n      <td>12.108617</td>\n      <td>35.894902</td>\n      <td>22.994176</td>\n      <td>23.093143</td>\n      <td>0.935053</td>\n      <td>0.935053</td>\n      <td>0.935053</td>\n      <td>1.48895</td>\n      <td>...</td>\n      <td>0.0</td>\n      <td>0.0</td>\n      <td>0.0</td>\n      <td>23.976415</td>\n      <td>23.939751</td>\n      <td>23.903088</td>\n      <td>23.334474</td>\n      <td>22.567507</td>\n      <td>27.988490</td>\n      <td>25.242074</td>\n    </tr>\n    <tr>\n      <th>1823</th>\n      <td>2017-12-29</td>\n      <td>23.046599</td>\n      <td>15.169711</td>\n      <td>37.287123</td>\n      <td>22.998516</td>\n      <td>23.099148</td>\n      <td>2.672100</td>\n      <td>2.672100</td>\n      <td>2.672100</td>\n      <td>1.48895</td>\n      <td>...</td>\n      <td>0.0</td>\n      <td>0.0</td>\n      <td>0.0</td>\n      <td>25.718699</td>\n      <td>25.682036</td>\n      <td>25.645372</td>\n      <td>23.903088</td>\n      <td>23.261147</td>\n      <td>19.810251</td>\n      <td>26.996459</td>\n    </tr>\n    <tr>\n      <th>1824</th>\n      <td>2017-12-30</td>\n      <td>23.051837</td>\n      <td>16.385046</td>\n      <td>38.847565</td>\n      <td>23.002889</td>\n      <td>23.105153</td>\n      <td>4.421248</td>\n      <td>4.421248</td>\n      <td>4.421248</td>\n      <td>1.48895</td>\n      <td>...</td>\n      <td>0.0</td>\n      <td>0.0</td>\n      <td>0.0</td>\n      <td>27.473084</td>\n      <td>27.436421</td>\n      <td>27.399757</td>\n      <td>25.645372</td>\n      <td>23.829761</td>\n      <td>22.420853</td>\n      <td>27.841836</td>\n    </tr>\n    <tr>\n      <th>1825</th>\n      <td>2017-12-31</td>\n      <td>23.057074</td>\n      <td>17.676758</td>\n      <td>39.308676</td>\n      <td>23.007566</td>\n      <td>23.111157</td>\n      <td>5.261387</td>\n      <td>5.261387</td>\n      <td>5.261387</td>\n      <td>1.48895</td>\n      <td>...</td>\n      <td>0.0</td>\n      <td>0.0</td>\n      <td>0.0</td>\n      <td>28.318461</td>\n      <td>28.281798</td>\n      <td>28.245134</td>\n      <td>27.399757</td>\n      <td>25.572045</td>\n      <td>23.114493</td>\n      <td>19.663597</td>\n    </tr>\n  </tbody>\n</table>\n<p>1826 rows × 25 columns</p>\n</div>"
     },
     "execution_count": 52,
     "metadata": {},
     "output_type": "execute_result"
    }
   ],
   "source": [
    "lags=[7,14,15,30,60,90]\n",
    "for lag in lags:\n",
    "    data[f'yhat_lag_{lag}'] = data['yhat'].shift(lag)\n",
    "data"
   ],
   "metadata": {
    "collapsed": false,
    "pycharm": {
     "name": "#%%\n"
    }
   }
  },
  {
   "cell_type": "code",
   "execution_count": 53,
   "outputs": [
    {
     "data": {
      "text/plain": "((1733, 24), (1733,))"
     },
     "execution_count": 53,
     "metadata": {},
     "output_type": "execute_result"
    }
   ],
   "source": [
    "X_train = data.loc[(data[\"ds\"] < \"2017-09-30\"), :].iloc[:,1:]\n",
    "Y_train = df.loc[(df[\"date\"] < \"2017-09-30\"), :]['sales'].values\n",
    "X_train.shape,Y_train.shape"
   ],
   "metadata": {
    "collapsed": false,
    "pycharm": {
     "name": "#%%\n"
    }
   }
  },
  {
   "cell_type": "code",
   "execution_count": 54,
   "outputs": [],
   "source": [
    "X_test = data.loc[(data[\"ds\"] > \"2017-09-30\"), :].iloc[:,1:]"
   ],
   "metadata": {
    "collapsed": false,
    "pycharm": {
     "name": "#%%\n"
    }
   }
  },
  {
   "cell_type": "code",
   "execution_count": 55,
   "outputs": [],
   "source": [
    "def smape(preds, target):\n",
    "    n = len(preds)\n",
    "    masked_arr = ~((preds == 0) & (target == 0))\n",
    "    preds, target = preds[masked_arr], target[masked_arr]\n",
    "    num = np.abs(preds-target)\n",
    "    denom = np.abs(preds)+np.abs(target)\n",
    "    smape_val = (200*np.sum(num/denom))/n\n",
    "    return smape_val\n",
    "\n",
    "def lgbm_smape(preds, train_data):\n",
    "    labels = train_data.get_label()\n",
    "    smape_val = smape(np.expm1(preds), np.expm1(labels))\n",
    "    return 'SMAPE', smape_val, False"
   ],
   "metadata": {
    "collapsed": false,
    "pycharm": {
     "name": "#%%\n"
    }
   }
  },
  {
   "cell_type": "code",
   "execution_count": 63,
   "outputs": [],
   "source": [
    "lgb_params = {'metric': {'mae'},\n",
    "              'seed': 0,\n",
    "              'num_leaves': 32,\n",
    "              'learning_rate': 0.02,\n",
    "              'feature_fraction': 0.8,\n",
    "              'max_depth': 16,\n",
    "              'verbose': 0,\n",
    "              'subsample': 0.8,\n",
    "              'nthread': -1}"
   ],
   "metadata": {
    "collapsed": false,
    "pycharm": {
     "name": "#%%\n"
    }
   }
  },
  {
   "cell_type": "code",
   "execution_count": 64,
   "outputs": [
    {
     "name": "stdout",
     "output_type": "stream",
     "text": [
      "[LightGBM] [Warning] Auto-choosing col-wise multi-threading, the overhead of testing was 0.000344 seconds.\n",
      "You can set `force_col_wise=true` to remove the overhead.\n",
      "[LightGBM] [Warning] No further splits with positive gain, best gain: -inf\n",
      "[LightGBM] [Warning] No further splits with positive gain, best gain: -inf\n",
      "[LightGBM] [Warning] No further splits with positive gain, best gain: -inf\n",
      "[LightGBM] [Warning] No further splits with positive gain, best gain: -inf\n",
      "[LightGBM] [Warning] No further splits with positive gain, best gain: -inf\n",
      "[LightGBM] [Warning] No further splits with positive gain, best gain: -inf\n",
      "[LightGBM] [Warning] No further splits with positive gain, best gain: -inf\n",
      "[LightGBM] [Warning] No further splits with positive gain, best gain: -inf\n",
      "[LightGBM] [Warning] No further splits with positive gain, best gain: -inf\n",
      "[LightGBM] [Warning] No further splits with positive gain, best gain: -inf\n",
      "[LightGBM] [Warning] No further splits with positive gain, best gain: -inf\n",
      "[LightGBM] [Warning] No further splits with positive gain, best gain: -inf\n",
      "[LightGBM] [Warning] No further splits with positive gain, best gain: -inf\n",
      "[LightGBM] [Warning] No further splits with positive gain, best gain: -inf\n",
      "[LightGBM] [Warning] No further splits with positive gain, best gain: -inf\n",
      "[LightGBM] [Warning] No further splits with positive gain, best gain: -inf\n",
      "[LightGBM] [Warning] No further splits with positive gain, best gain: -inf\n",
      "[LightGBM] [Warning] No further splits with positive gain, best gain: -inf\n",
      "[LightGBM] [Warning] No further splits with positive gain, best gain: -inf\n",
      "[LightGBM] [Warning] No further splits with positive gain, best gain: -inf\n",
      "[LightGBM] [Warning] No further splits with positive gain, best gain: -inf\n",
      "[LightGBM] [Warning] No further splits with positive gain, best gain: -inf\n",
      "[LightGBM] [Warning] No further splits with positive gain, best gain: -inf\n",
      "[LightGBM] [Warning] No further splits with positive gain, best gain: -inf\n",
      "[LightGBM] [Warning] No further splits with positive gain, best gain: -inf\n",
      "[LightGBM] [Warning] No further splits with positive gain, best gain: -inf\n",
      "[LightGBM] [Warning] No further splits with positive gain, best gain: -inf\n",
      "[LightGBM] [Warning] No further splits with positive gain, best gain: -inf\n",
      "[LightGBM] [Warning] No further splits with positive gain, best gain: -inf\n",
      "[LightGBM] [Warning] No further splits with positive gain, best gain: -inf\n",
      "[LightGBM] [Warning] No further splits with positive gain, best gain: -inf\n",
      "[LightGBM] [Warning] No further splits with positive gain, best gain: -inf\n",
      "[LightGBM] [Warning] No further splits with positive gain, best gain: -inf\n",
      "[LightGBM] [Warning] No further splits with positive gain, best gain: -inf\n",
      "[LightGBM] [Warning] No further splits with positive gain, best gain: -inf\n",
      "[LightGBM] [Warning] No further splits with positive gain, best gain: -inf\n",
      "[LightGBM] [Warning] No further splits with positive gain, best gain: -inf\n",
      "[LightGBM] [Warning] No further splits with positive gain, best gain: -inf\n",
      "[LightGBM] [Warning] No further splits with positive gain, best gain: -inf\n",
      "[LightGBM] [Warning] No further splits with positive gain, best gain: -inf\n",
      "[LightGBM] [Warning] No further splits with positive gain, best gain: -inf\n",
      "[LightGBM] [Warning] No further splits with positive gain, best gain: -inf\n",
      "[LightGBM] [Warning] No further splits with positive gain, best gain: -inf\n",
      "[LightGBM] [Warning] No further splits with positive gain, best gain: -inf\n",
      "[LightGBM] [Warning] No further splits with positive gain, best gain: -inf\n"
     ]
    }
   ],
   "source": [
    "lgbdata = lgb.Dataset(data=X_train, label=Y_train)\n",
    "model = lgb.train(lgb_params, lgbdata,num_boost_round=300)"
   ],
   "metadata": {
    "collapsed": false,
    "pycharm": {
     "name": "#%%\n"
    }
   }
  },
  {
   "cell_type": "code",
   "execution_count": 65,
   "outputs": [],
   "source": [
    "test_preds = model.predict(X_test, num_iteration=model.best_iteration)"
   ],
   "metadata": {
    "collapsed": false,
    "pycharm": {
     "name": "#%%\n"
    }
   }
  },
  {
   "cell_type": "code",
   "execution_count": 47,
   "outputs": [],
   "source": [
    "# model = LGBMRegressor(random_state=0)\n",
    "# model.fit(X_train, Y_train)\n",
    "# predictions = model.predict(X_test)"
   ],
   "metadata": {
    "collapsed": false,
    "pycharm": {
     "name": "#%%\n"
    }
   }
  },
  {
   "cell_type": "code",
   "execution_count": 66,
   "outputs": [
    {
     "data": {
      "text/plain": "0.4223312498279564"
     },
     "execution_count": 66,
     "metadata": {},
     "output_type": "execute_result"
    }
   ],
   "source": [
    "from sklearn.metrics import mean_absolute_percentage_error\n",
    "mean_absolute_percentage_error(pd.read_csv('test.csv')['sales'].values,test_preds)"
   ],
   "metadata": {
    "collapsed": false,
    "pycharm": {
     "name": "#%%\n"
    }
   }
  },
  {
   "cell_type": "code",
   "execution_count": 45,
   "outputs": [
    {
     "data": {
      "text/plain": "0.25984471290340005"
     },
     "execution_count": 45,
     "metadata": {},
     "output_type": "execute_result"
    }
   ],
   "source": [
    "from sklearn.metrics import mean_absolute_percentage_error\n",
    "mean_absolute_percentage_error(pd.read_csv('test.csv')['sales'].values,pd.read_csv('lgb.csv')['sales'].values)"
   ],
   "metadata": {
    "collapsed": false,
    "pycharm": {
     "name": "#%%\n"
    }
   }
  },
  {
   "cell_type": "code",
   "execution_count": 46,
   "outputs": [
    {
     "data": {
      "text/plain": "0.2379936834116205"
     },
     "execution_count": 46,
     "metadata": {},
     "output_type": "execute_result"
    }
   ],
   "source": [
    "from sklearn.metrics import mean_absolute_percentage_error\n",
    "mean_absolute_percentage_error(pd.read_csv('test.csv')['sales'].values,pd.read_csv('prophet.csv')['sales'].values)"
   ],
   "metadata": {
    "collapsed": false,
    "pycharm": {
     "name": "#%%\n"
    }
   }
  },
  {
   "cell_type": "code",
   "execution_count": null,
   "outputs": [],
   "source": [],
   "metadata": {
    "collapsed": false,
    "pycharm": {
     "name": "#%%\n"
    }
   }
  }
 ],
 "metadata": {
  "kernelspec": {
   "display_name": "Python 3",
   "language": "python",
   "name": "python3"
  },
  "language_info": {
   "codemirror_mode": {
    "name": "ipython",
    "version": 2
   },
   "file_extension": ".py",
   "mimetype": "text/x-python",
   "name": "python",
   "nbconvert_exporter": "python",
   "pygments_lexer": "ipython2",
   "version": "2.7.6"
  }
 },
 "nbformat": 4,
 "nbformat_minor": 0
}